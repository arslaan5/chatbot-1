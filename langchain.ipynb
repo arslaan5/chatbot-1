{
 "cells": [
  {
   "cell_type": "markdown",
   "metadata": {},
   "source": [
    "# Getting started"
   ]
  },
  {
   "cell_type": "markdown",
   "metadata": {},
   "source": [
    "## Importing required libraries"
   ]
  },
  {
   "cell_type": "code",
   "execution_count": 1,
   "metadata": {},
   "outputs": [],
   "source": [
    "import os\n",
    "from dotenv import load_dotenv\n",
    "from langchain_google_genai import GoogleGenerativeAI, ChatGoogleGenerativeAI\n",
    "from langchain.prompts import PromptTemplate, ChatPromptTemplate\n",
    "from langchain.chains import LLMChain\n",
    "from langchain.chains.sequential import SimpleSequentialChain, SequentialChain\n",
    "from langchain.schema import AIMessage, SystemMessage, HumanMessage, BaseOutputParser"
   ]
  },
  {
   "cell_type": "markdown",
   "metadata": {},
   "source": [
    " Loading api key from environment variable"
   ]
  },
  {
   "cell_type": "code",
   "execution_count": 11,
   "metadata": {},
   "outputs": [],
   "source": [
    "load_dotenv()\n",
    "api_key = os.getenv(\"GEMINI_API_KEY\")"
   ]
  },
  {
   "cell_type": "markdown",
   "metadata": {},
   "source": [
    "Initiating the model"
   ]
  },
  {
   "cell_type": "code",
   "execution_count": 12,
   "metadata": {},
   "outputs": [],
   "source": [
    "llm = GoogleGenerativeAI(api_key=api_key, \n",
    "                            model=\"gemini-1.5-flash\",\n",
    "                            temperature=0.7)"
   ]
  },
  {
   "cell_type": "code",
   "execution_count": 13,
   "metadata": {},
   "outputs": [],
   "source": [
    "messages = [\"who has the highest amount of rolls royce in the world\"]\n",
    "response = llm.invoke(messages)"
   ]
  },
  {
   "cell_type": "code",
   "execution_count": 14,
   "metadata": {},
   "outputs": [
    {
     "name": "stdout",
     "output_type": "stream",
     "text": [
      "I can't give you a definitive answer to who owns the most Rolls-Royce cars in the world. Here's why:\n",
      "\n",
      "* **Privacy:**  The ownership of luxury cars like Rolls-Royce is often private information. There's no public database that tracks this kind of data.\n",
      "* **Fluctuating Ownership:**  The number of cars someone owns can change frequently due to buying, selling, or gifting.  \n",
      "* **Multiple Ownerships:**  Some individuals might own Rolls-Royce cars through various companies or trusts, making it difficult to track. \n",
      "\n",
      "**However, you can find some information about potential candidates:**\n",
      "\n",
      "* **Royal Families:**  Many royal families around the world are known to own a significant number of Rolls-Royce cars.\n",
      "* **Wealthy Individuals:**  There are many billionaires and high-net-worth individuals who are known to be avid collectors of luxury cars, including Rolls-Royce. \n",
      "* **Companies:**  Some companies, particularly those in the luxury goods or automotive sectors, might own a fleet of Rolls-Royce cars for business purposes.\n",
      "\n",
      "**It's important to note that any information you find online about this topic should be treated with caution, as it's likely based on speculation and not verified facts.** \n",
      "\n"
     ]
    }
   ],
   "source": [
    "print(response)"
   ]
  },
  {
   "cell_type": "markdown",
   "metadata": {},
   "source": [
    "### Using prompt template"
   ]
  },
  {
   "cell_type": "code",
   "execution_count": 15,
   "metadata": {},
   "outputs": [
    {
     "data": {
      "text/plain": [
       "'Who are the richest actors actors'"
      ]
     },
     "execution_count": 15,
     "metadata": {},
     "output_type": "execute_result"
    }
   ],
   "source": [
    "template = PromptTemplate(input_variables=['actors'],\n",
    "                        template=\"Who are the richest actors {actors}\")\n",
    "\n",
    "template.format(actors=\"actors\")"
   ]
  },
  {
   "cell_type": "markdown",
   "metadata": {},
   "source": [
    "Defining the LLMChain"
   ]
  },
  {
   "cell_type": "code",
   "execution_count": 16,
   "metadata": {},
   "outputs": [
    {
     "name": "stderr",
     "output_type": "stream",
     "text": [
      "C:\\Users\\arsla\\AppData\\Local\\Temp\\ipykernel_9600\\3384458703.py:1: LangChainDeprecationWarning: The class `LLMChain` was deprecated in LangChain 0.1.17 and will be removed in 1.0. Use :meth:`~RunnableSequence, e.g., `prompt | llm`` instead.\n",
      "  chain = LLMChain(llm=llm, prompt=template)\n",
      "C:\\Users\\arsla\\AppData\\Local\\Temp\\ipykernel_9600\\3384458703.py:2: LangChainDeprecationWarning: The method `Chain.run` was deprecated in langchain 0.1.0 and will be removed in 1.0. Use :meth:`~invoke` instead.\n",
      "  print(chain.run(\"top 5\"))\n"
     ]
    },
    {
     "name": "stdout",
     "output_type": "stream",
     "text": [
      "It's difficult to definitively say who the top 5 richest actors are, as wealth fluctuates constantly and information isn't always publicly available. \n",
      "\n",
      "However, based on various sources and estimations, here are some of the actors consistently ranked among the wealthiest:\n",
      "\n",
      "1. **Jerry Seinfeld:** With an estimated net worth of over $950 million, Seinfeld's success in stand-up comedy and the iconic sitcom \"Seinfeld\" has made him incredibly wealthy. \n",
      "\n",
      "2. **Shah Rukh Khan:**  Khan's massive popularity in Bollywood, combined with numerous endorsements and business ventures, has earned him an estimated net worth of over $600 million.\n",
      "\n",
      "3. **Tom Cruise:** With a long and successful film career, Cruise has a net worth estimated to be around $600 million. His dedication to performing his own stunts and box-office success have contributed significantly.\n",
      "\n",
      "4. **George Clooney:** A successful actor, director, and producer, Clooney has an estimated net worth of around $500 million. His investments in Casamigos Tequila and his film projects have been highly profitable.\n",
      "\n",
      "5. **Dwayne \"The Rock\" Johnson:**  Johnson's transition from professional wrestling to Hollywood has been incredibly successful, leading him to an estimated net worth of over $400 million. His diverse film portfolio and successful business ventures have contributed to his wealth.\n",
      "\n",
      "**Important Note:**  Net worth estimations can vary depending on the source, and these rankings are not definitive. \n",
      "\n"
     ]
    }
   ],
   "source": [
    "chain = LLMChain(llm=llm, prompt=template)\n",
    "print(chain.run(\"top 5\"))"
   ]
  },
  {
   "cell_type": "code",
   "execution_count": 17,
   "metadata": {},
   "outputs": [
    {
     "data": {
      "text/plain": [
       "'Write an encouraging and inspiring story about actors like how he achieved success in his career and what motivated him to pursue his dreams.'"
      ]
     },
     "execution_count": 17,
     "metadata": {},
     "output_type": "execute_result"
    }
   ],
   "source": [
    "template2 = PromptTemplate(input_variables=['actors'],\n",
    "                        template=\"Write an encouraging and inspiring story about {actors} like how he achieved success in his career and what motivated him to pursue his dreams.\")\n",
    "\n",
    "\n",
    "template2.format(actors=\"actors\")"
   ]
  },
  {
   "cell_type": "code",
   "execution_count": 18,
   "metadata": {},
   "outputs": [
    {
     "name": "stdout",
     "output_type": "stream",
     "text": [
      "The boy, skinny and with a mop of unruly hair, stood outside the sprawling studios of Bollywood, his heart pounding a frantic rhythm against his ribs. He clutched a worn-out copy of \"The Complete Works of William Shakespeare\" to his chest, his eyes fixed on the imposing gates. This was his chance.\n",
      "\n",
      "His name was Shahrukh Khan, and he was chasing a dream as old as time itself - to become a star. He had left his hometown, Delhi, with nothing but his talent and a burning ambition. He had already tasted the bitter sting of rejection, the countless auditions that ended with a polite \"Thank you, we'll be in touch.\" But he refused to give up.\n",
      "\n",
      "He spent his days taking on odd jobs, working as a tour guide, and even selling tickets at a movie theatre, all the while honing his skills. He enrolled in theatre workshops, devouring books on acting, and pouring over films, learning from the greats. Every night, he practiced his lines, his voice echoing in the quiet of his tiny apartment.\n",
      "\n",
      "He knew he was different. He wasn't the typical Bollywood hero, handsome and muscular. He was a boy from a middle-class family, with a sharp wit and a mischievous glint in his eye. He was a storyteller, and he wanted to share his stories with the world.\n",
      "\n",
      "One day, destiny smiled upon him. He landed a role in a television series, \"Fauji,\" which catapulted him to fame. It was a breakthrough, a taste of success that fuelled his fire. He was no longer just a boy with a dream; he was Shahrukh Khan, the rising star.\n",
      "\n",
      "His journey was not without challenges. He faced criticism, setbacks, and moments of doubt. But he persevered, his resilience fueled by his unwavering belief in himself and his passion for acting. He embraced his unique style, his charm, and his ability to connect with audiences on a personal level.\n",
      "\n",
      "His dedication, his talent, and his infectious energy resonated with millions. He became \"King Khan,\" a global icon, a legend in the making. From romantic comedies to action thrillers, he embodied every character with conviction, leaving an indelible mark on the hearts of audiences worldwide.\n",
      "\n",
      "But what truly made Shahrukh Khan an inspiration was his humility. He never forgot his roots, his struggles, and the lessons he learned along the way. He remained grounded, approachable, and a champion of the underdog. He used his platform to advocate for social causes, to inspire others to chase their dreams, and to remind them that anything is possible with hard work and unwavering determination.\n",
      "\n",
      "His story, a testament to the power of perseverance, continues to inspire generations. He stands as a shining example that success is not a destination, but a journey, a relentless pursuit of passion, and a testament to the unwavering belief in one's own potential. He reminds us that even in the face of adversity, with a heart full of hope and a spirit that refuses to be broken, we too can achieve the extraordinary. \n",
      "\n"
     ]
    }
   ],
   "source": [
    "chain2 = LLMChain(llm=llm, prompt=template2)\n",
    "print(chain2.run(\"Shahrukh khan\"))"
   ]
  },
  {
   "cell_type": "markdown",
   "metadata": {},
   "source": [
    "### Using multiple chains using SimpleSequential Chain"
   ]
  },
  {
   "cell_type": "code",
   "execution_count": 19,
   "metadata": {},
   "outputs": [
    {
     "data": {
      "text/plain": [
       "'Who is the main characters in character?'"
      ]
     },
     "execution_count": 19,
     "metadata": {},
     "output_type": "execute_result"
    }
   ],
   "source": [
    "seq_temp1 = PromptTemplate(input_variables=[\"character\"],\n",
    "                           template=\"Who is the main characters in {character}?\")\n",
    "seq_temp1.format(character=\"character\")"
   ]
  },
  {
   "cell_type": "code",
   "execution_count": 20,
   "metadata": {},
   "outputs": [
    {
     "name": "stdout",
     "output_type": "stream",
     "text": [
      "The main character in Demon Slayer is **Tanjiro Kamado**. \n",
      "\n",
      "Here's why:\n",
      "\n",
      "* **Protagonist:** He's the central figure whose journey drives the story.\n",
      "* **Motivation:**  His family is brutally murdered by demons, and his sister Nezuko is turned into one. He's driven by a desire to find a cure for her and avenge his family.\n",
      "* **Character Development:**  He undergoes significant growth throughout the series, learning to master swordsmanship and becoming a strong and compassionate demon slayer.\n",
      "\n",
      "While other characters like **Nezuko Kamado** and **Zenitsu Agatsuma** are important and complex, Tanjiro is the undisputed lead character. \n",
      "\n"
     ]
    }
   ],
   "source": [
    "seq_chain1 = LLMChain(llm=llm, prompt=seq_temp1)\n",
    "print(seq_chain1.run(\"Demon slayer\"))"
   ]
  },
  {
   "cell_type": "code",
   "execution_count": 21,
   "metadata": {},
   "outputs": [
    {
     "data": {
      "text/plain": [
       "'Give me a brief summary of anime without any spoiler'"
      ]
     },
     "execution_count": 21,
     "metadata": {},
     "output_type": "execute_result"
    }
   ],
   "source": [
    "seq_temp2 = PromptTemplate(input_variables=[\"anime\"],\n",
    "                           template=\"Give me a brief summary of {anime} without any spoiler\")\n",
    "seq_temp2.format(anime=\"anime\")"
   ]
  },
  {
   "cell_type": "code",
   "execution_count": 22,
   "metadata": {},
   "outputs": [
    {
     "name": "stdout",
     "output_type": "stream",
     "text": [
      "Demon Slayer follows Tanjiro Kamado, a kindhearted young boy whose life is turned upside down when his family is slaughtered by demons.  His only surviving sister, Nezuko, has been transformed into a demon herself, but surprisingly still retains some of her humanity.\n",
      "\n",
      "Driven by grief and a desire to find a cure for Nezuko, Tanjiro joins the Demon Slayer Corps, an organization dedicated to protecting humans from demons. He embarks on a perilous journey, honing his swordsmanship skills, encountering other demon slayers, and facing powerful demons along the way. \n",
      "\n",
      "Through his journey, Tanjiro learns about the world of demons, the history of his family, and the true meaning of strength and compassion. \n",
      "\n"
     ]
    }
   ],
   "source": [
    "seq_chain2 = LLMChain(llm=llm, prompt=seq_temp2)\n",
    "print(seq_chain2.run(\"Demon slayer\"))"
   ]
  },
  {
   "cell_type": "markdown",
   "metadata": {},
   "source": [
    "Combining both chains"
   ]
  },
  {
   "cell_type": "code",
   "execution_count": 23,
   "metadata": {},
   "outputs": [
    {
     "data": {
      "text/plain": [
       "'Black Clover follows the journey of two orphans, Asta and Yuno, who dream of becoming the Wizard King, the strongest mage in the Clover Kingdom. Asta, despite lacking magical power, possesses incredible physical strength and determination, while Yuno is a natural prodigy with immense magical talent. They both join the Black Bulls, a squad of magic knights known for their unorthodox methods and powerful members. \\n\\nThe Black Bulls are led by Yami Sukehiro, a mysterious and powerful captain. Other notable members include Noelle Silva, a talented but insecure magic knight from a prestigious family; Vanessa Enoteca, a playful and powerful magic knight; and Finral Roulacase, a magic knight who can manipulate space. \\n\\nThe series features a diverse cast of characters, each with unique abilities and personalities, as they navigate the world of magic and face various challenges. \\n'"
      ]
     },
     "execution_count": 23,
     "metadata": {},
     "output_type": "execute_result"
    }
   ],
   "source": [
    "simple_chain = SimpleSequentialChain(chains=[seq_chain1, seq_chain2])\n",
    "simple_chain.run(\"Black clover\")"
   ]
  },
  {
   "cell_type": "markdown",
   "metadata": {},
   "source": [
    "### Using multiple chains using Sequential Chain"
   ]
  },
  {
   "cell_type": "code",
   "execution_count": 24,
   "metadata": {},
   "outputs": [],
   "source": [
    "seq_temp1 = PromptTemplate(input_variables=[\"character\"],\n",
    "                           template=\"What is the name of anime in which the main character is {character}?\")\n",
    "seq_temp1.format(character=\"character\")\n",
    "seq_chain1 = LLMChain(llm=llm, prompt=seq_temp1, output_key=\"anime\")"
   ]
  },
  {
   "cell_type": "code",
   "execution_count": 25,
   "metadata": {},
   "outputs": [],
   "source": [
    "seq_temp2 = PromptTemplate(input_variables=[\"anime\"],\n",
    "                           template=\"Give me a brief summary of {anime} without any spoiler\")\n",
    "seq_temp2.format(anime=\"anime\")\n",
    "seq_chain2 = LLMChain(llm=llm, prompt=seq_temp2, output_key=\"summary\")"
   ]
  },
  {
   "cell_type": "code",
   "execution_count": 26,
   "metadata": {},
   "outputs": [],
   "source": [
    "seq_chain_combined = SequentialChain(chains=[seq_chain1, seq_chain2],\n",
    "                                    input_variables=[\"character\"],\n",
    "                                    output_variables=[\"anime\", \"summary\"])"
   ]
  },
  {
   "cell_type": "code",
   "execution_count": 30,
   "metadata": {},
   "outputs": [],
   "source": [
    "result = seq_chain_combined.invoke({\"character\":\"Eren\"})"
   ]
  },
  {
   "cell_type": "code",
   "execution_count": 37,
   "metadata": {},
   "outputs": [
    {
     "name": "stdout",
     "output_type": "stream",
     "text": [
      "{'character': 'Eren', 'anime': \"The anime you're thinking of is **Attack on Titan**. The main character is **Eren Yeager**. \\n\", 'summary': 'In a world surrounded by colossal walls, humanity lives in fear of the Titans, monstrous creatures that devour humans. Eren Yeager, a young boy who witnessed the destruction of his home and the loss of his mother, vows to exterminate the Titans. He joins the Survey Corps, an elite military unit that ventures beyond the walls to fight the Titans. Along with his friends Mikasa Ackerman and Armin Arlert, Eren faces perilous battles and uncovers secrets that threaten to shatter his world. \\n'}\n"
     ]
    }
   ],
   "source": [
    "print(result)"
   ]
  },
  {
   "cell_type": "markdown",
   "metadata": {},
   "source": [
    "## Chatmodels"
   ]
  },
  {
   "cell_type": "code",
   "execution_count": 49,
   "metadata": {},
   "outputs": [],
   "source": [
    "chatllm = ChatGoogleGenerativeAI(api_key=api_key,\n",
    "                                model=\"gemini-1.5-flash\",\n",
    "                                temperature=0.7)"
   ]
  },
  {
   "cell_type": "code",
   "execution_count": 65,
   "metadata": {},
   "outputs": [],
   "source": [
    "user_input = input(\"Enter the relation for which you want a poem:\\n\")"
   ]
  },
  {
   "cell_type": "code",
   "execution_count": 69,
   "metadata": {},
   "outputs": [
    {
     "data": {
      "text/plain": [
       "AIMessage(content=\"My love, my wife, my guiding star,\\nYour light shines brighter than the sun, afar.\\nYour laughter fills my heart with glee,\\nA melody that sets my spirit free.\\n\\nYour touch, a gentle summer breeze,\\nCalms my soul and sets my mind at ease.\\nYour eyes, a deep and endless sea,\\nReflecting all the love you hold for me.\\n\\nThrough life's adventures, hand in hand,\\nWe'll face the storms and make our stand.\\nYour love, a constant, steady flame,\\nWill guide us through, forever the same.\\n\\nWith every passing day, my love grows strong,\\nFor you, my wife, where I belong.\\nIn your embrace, I find my peace,\\nA love eternal, never to cease. \\n\", additional_kwargs={}, response_metadata={'prompt_feedback': {'block_reason': 0, 'safety_ratings': []}, 'finish_reason': 'STOP', 'safety_ratings': [{'category': 'HARM_CATEGORY_SEXUALLY_EXPLICIT', 'probability': 'NEGLIGIBLE', 'blocked': False}, {'category': 'HARM_CATEGORY_HATE_SPEECH', 'probability': 'NEGLIGIBLE', 'blocked': False}, {'category': 'HARM_CATEGORY_HARASSMENT', 'probability': 'NEGLIGIBLE', 'blocked': False}, {'category': 'HARM_CATEGORY_DANGEROUS_CONTENT', 'probability': 'NEGLIGIBLE', 'blocked': False}]}, id='run-6156c161-b05b-401c-8367-ed8421c7cbf2-0', usage_metadata={'input_tokens': 14, 'output_tokens': 165, 'total_tokens': 179})"
      ]
     },
     "execution_count": 69,
     "metadata": {},
     "output_type": "execute_result"
    }
   ],
   "source": [
    "chatllm([\n",
    "    SystemMessage(content=\"You are a poet\"),\n",
    "    HumanMessage(content=f\"Write a love poem for my {user_input}\"),\n",
    "    AIMessage(content=\"Poem\")\n",
    "])"
   ]
  },
  {
   "cell_type": "markdown",
   "metadata": {},
   "source": [
    "## PromptTemplate, LLM and OutputParser"
   ]
  },
  {
   "cell_type": "code",
   "execution_count": 111,
   "metadata": {},
   "outputs": [],
   "source": [
    "class CommaSeparatedOutput(BaseOutputParser):\n",
    "    def parse(self, data:str):\n",
    "        return data.strip().split(\",\")"
   ]
  },
  {
   "cell_type": "code",
   "execution_count": 119,
   "metadata": {},
   "outputs": [],
   "source": [
    "sys_template = \"You are an expert in English vocabulary. When you are given an input word from the user, you have to return a list of 5 most relevant comma separated synonyms of that word.\"\n",
    "human_template = \"{word}\"\n",
    "\n",
    "chatprompt = ChatPromptTemplate.from_messages([\n",
    "    (\"system\", sys_template),\n",
    "    (\"user\", human_template)\n",
    "])"
   ]
  },
  {
   "cell_type": "code",
   "execution_count": 120,
   "metadata": {},
   "outputs": [],
   "source": [
    "output_chain = chatprompt | chatllm | CommaSeparatedOutput()"
   ]
  },
  {
   "cell_type": "code",
   "execution_count": 121,
   "metadata": {},
   "outputs": [
    {
     "data": {
      "text/plain": [
       "['legal', ' legitimate', ' acceptable', ' sound', ' justifiable']"
      ]
     },
     "execution_count": 121,
     "metadata": {},
     "output_type": "execute_result"
    }
   ],
   "source": [
    "inp = input(\"Enter an English word for synonyms:\\n\")\n",
    "output_chain.invoke({\"word\":inp})"
   ]
  },
  {
   "cell_type": "code",
   "execution_count": null,
   "metadata": {},
   "outputs": [],
   "source": []
  }
 ],
 "metadata": {
  "kernelspec": {
   "display_name": "venv",
   "language": "python",
   "name": "python3"
  },
  "language_info": {
   "codemirror_mode": {
    "name": "ipython",
    "version": 3
   },
   "file_extension": ".py",
   "mimetype": "text/x-python",
   "name": "python",
   "nbconvert_exporter": "python",
   "pygments_lexer": "ipython3",
   "version": "3.12.5"
  }
 },
 "nbformat": 4,
 "nbformat_minor": 2
}
